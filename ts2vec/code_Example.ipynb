{
 "cells": [
  {
   "cell_type": "code",
   "execution_count": 5,
   "metadata": {},
   "outputs": [],
   "source": [
    "from scipy.io import arff\n",
    "from ts2vec import TS2Vec\n",
    "import datautils\n"
   ]
  },
  {
   "cell_type": "code",
   "execution_count": 1,
   "metadata": {},
   "outputs": [
    {
     "name": "stdout",
     "output_type": "stream",
     "text": [
      "1.23.5\n",
      "1.0.1\n"
     ]
    }
   ],
   "source": [
    "import os\n",
    "import time\n",
    "import datetime\n",
    "import json\n",
    "import shutil\n",
    "import numpy as np\n",
    "import pandas as pd\n",
    "# import folium # draw route on map\n",
    "# from folium import plugins\n",
    "import datetime\n",
    "from datetime import datetime\n",
    "from datetime import timedelta\n",
    "from pathlib import Path\n",
    "\n",
    "\n",
    "import matplotlib.pyplot as plt\n",
    "# %matplotlib inline\n",
    "# import plotly.express as px\n",
    "# import plotly.graph_objects as go\n",
    "\n",
    "from sklearn.decomposition import PCA\n",
    "from sklearn.preprocessing import StandardScaler\n",
    "from sklearn.cluster import OPTICS,  DBSCAN, Birch \n",
    "\n",
    "\n",
    "print(np.__version__)\n",
    "print(pd.__version__)\n"
   ]
  },
  {
   "cell_type": "code",
   "execution_count": null,
   "metadata": {},
   "outputs": [],
   "source": [
    "#!pip install liac-arff\n",
    "# import arff"
   ]
  },
  {
   "cell_type": "code",
   "execution_count": 7,
   "metadata": {},
   "outputs": [],
   "source": [
    "from scipy.io import arff\n",
    "\n",
    "dataset = 'BasicMotions'\n",
    "data = arff.loadarff(f'datasets/UEA/{dataset}/{dataset}_TRAIN.arff')[0]\n"
   ]
  },
  {
   "cell_type": "code",
   "execution_count": 10,
   "metadata": {},
   "outputs": [
    {
     "data": {
      "text/plain": [
       "()"
      ]
     },
     "execution_count": 10,
     "metadata": {},
     "output_type": "execute_result"
    }
   ],
   "source": [
    "def extract_data(data):\n",
    "    res_data = []\n",
    "    res_labels = []\n",
    "    for t_data, t_label in data:\n",
    "        t_data = np.array([ d.tolist() for d in t_data ])\n",
    "        t_label = t_label.decode(\"utf-8\")\n",
    "        res_data.append(t_data)\n",
    "        res_labels.append(t_label)\n",
    "    return np.array(res_data).swapaxes(1, 2), np.array(res_labels)"
   ]
  },
  {
   "cell_type": "code",
   "execution_count": 15,
   "metadata": {},
   "outputs": [
    {
     "data": {
      "text/html": [
       "<div>\n",
       "<style scoped>\n",
       "    .dataframe tbody tr th:only-of-type {\n",
       "        vertical-align: middle;\n",
       "    }\n",
       "\n",
       "    .dataframe tbody tr th {\n",
       "        vertical-align: top;\n",
       "    }\n",
       "\n",
       "    .dataframe thead th {\n",
       "        text-align: right;\n",
       "    }\n",
       "</style>\n",
       "<table border=\"1\" class=\"dataframe\">\n",
       "  <thead>\n",
       "    <tr style=\"text-align: right;\">\n",
       "      <th></th>\n",
       "      <th>relationalAtt</th>\n",
       "      <th>activity</th>\n",
       "    </tr>\n",
       "  </thead>\n",
       "  <tbody>\n",
       "    <tr>\n",
       "      <th>0</th>\n",
       "      <td>[[0.079106, 0.079106, -0.903497, 1.116125, 1.6...</td>\n",
       "      <td>b'Standing'</td>\n",
       "    </tr>\n",
       "    <tr>\n",
       "      <th>1</th>\n",
       "      <td>[[0.377751, 0.377751, 2.952965, 4.310925, 3.25...</td>\n",
       "      <td>b'Standing'</td>\n",
       "    </tr>\n",
       "    <tr>\n",
       "      <th>2</th>\n",
       "      <td>[[-0.813905, -0.813905, -0.424628, 0.316895, 0...</td>\n",
       "      <td>b'Standing'</td>\n",
       "    </tr>\n",
       "    <tr>\n",
       "      <th>3</th>\n",
       "      <td>[[0.289855, 0.289855, -0.669185, 0.032063, -0....</td>\n",
       "      <td>b'Standing'</td>\n",
       "    </tr>\n",
       "    <tr>\n",
       "      <th>4</th>\n",
       "      <td>[[-0.123238, -0.123238, -0.249547, -0.272929, ...</td>\n",
       "      <td>b'Standing'</td>\n",
       "    </tr>\n",
       "  </tbody>\n",
       "</table>\n",
       "</div>"
      ],
      "text/plain": [
       "                                       relationalAtt     activity\n",
       "0  [[0.079106, 0.079106, -0.903497, 1.116125, 1.6...  b'Standing'\n",
       "1  [[0.377751, 0.377751, 2.952965, 4.310925, 3.25...  b'Standing'\n",
       "2  [[-0.813905, -0.813905, -0.424628, 0.316895, 0...  b'Standing'\n",
       "3  [[0.289855, 0.289855, -0.669185, 0.032063, -0....  b'Standing'\n",
       "4  [[-0.123238, -0.123238, -0.249547, -0.272929, ...  b'Standing'"
      ]
     },
     "execution_count": 15,
     "metadata": {},
     "output_type": "execute_result"
    }
   ],
   "source": [
    "\n",
    "df = pd.DataFrame(data)\n",
    "\n",
    "df.head()"
   ]
  },
  {
   "cell_type": "code",
   "execution_count": 82,
   "metadata": {},
   "outputs": [
    {
     "data": {
      "text/plain": [
       "(40, 100, 6)"
      ]
     },
     "execution_count": 82,
     "metadata": {},
     "output_type": "execute_result"
    }
   ],
   "source": [
    "\n",
    "# Load the ECG200 dataset from UCR archive\n",
    "train_data, train_labels, test_data, test_labels = datautils.load_UEA('BasicMotions')\n",
    "# (Both train_data and test_data have a shape of n_instances x n_timestamps x n_features)\n",
    "train_data.shape\n"
   ]
  },
  {
   "cell_type": "code",
   "execution_count": null,
   "metadata": {},
   "outputs": [],
   "source": [
    "c_method = 'OPTICS'\n",
    "min_samples = 3\n",
    "max_eps = np.inf # np.inf\n",
    "xi = 0.05\n",
    "\n",
    "clustering = OPTICS(min_samples=min_samples, max_eps=max_eps, xi=xi, n_jobs=10).fit(df_event_agg_scaled)\n",
    "cluster_labels_ = clustering.labels_\n",
    "n_labels = len(np.unique(cluster_labels_))\n",
    "print(f'Number of clusters : {n_labels}')\n",
    "print(f'outlier_perc : = {(np.sum(cluster_labels_== -1)/ len(cluster_labels_))*100 :.2f} %')\n",
    "cluster_labels_"
   ]
  },
  {
   "cell_type": "code",
   "execution_count": 102,
   "metadata": {},
   "outputs": [],
   "source": [
    "n_feature = train_data.shape[-1]\n",
    "# Train a TS2Vec model\n",
    "model = TS2Vec(\n",
    "    input_dims=n_feature,\n",
    "    device='cpu',\n",
    "    output_dims=320\n",
    ")\n"
   ]
  },
  {
   "cell_type": "code",
   "execution_count": 103,
   "metadata": {},
   "outputs": [
    {
     "name": "stdout",
     "output_type": "stream",
     "text": [
      "Epoch #0: loss=17.907253742218018\n",
      "Epoch #1: loss=16.036823272705078\n",
      "Epoch #2: loss=7.519722938537598\n",
      "Epoch #3: loss=4.572880744934082\n",
      "Epoch #4: loss=3.0226281881332397\n",
      "Epoch #5: loss=3.79820716381073\n",
      "Epoch #6: loss=3.270593285560608\n",
      "Epoch #7: loss=3.0883854627609253\n",
      "Epoch #8: loss=3.104858636856079\n",
      "Epoch #9: loss=2.5742647647857666\n",
      "Epoch #10: loss=2.933247923851013\n",
      "Epoch #11: loss=3.0357825756073\n",
      "Epoch #12: loss=2.800729990005493\n",
      "Epoch #13: loss=2.928725481033325\n",
      "Epoch #14: loss=2.869333028793335\n",
      "Epoch #15: loss=2.699778914451599\n",
      "Epoch #16: loss=2.823645234107971\n",
      "Epoch #17: loss=2.590148448944092\n",
      "Epoch #18: loss=2.6274611949920654\n",
      "Epoch #19: loss=2.7886691093444824\n",
      "Epoch #20: loss=2.6365625858306885\n",
      "Epoch #21: loss=2.3846168518066406\n",
      "Epoch #22: loss=2.7021095752716064\n",
      "Epoch #23: loss=2.5948294401168823\n",
      "Epoch #24: loss=2.445379853248596\n",
      "Epoch #25: loss=2.627063751220703\n",
      "Epoch #26: loss=2.494326114654541\n",
      "Epoch #27: loss=2.637471556663513\n",
      "Epoch #28: loss=2.4228675365448\n",
      "Epoch #29: loss=2.465743899345398\n",
      "Epoch #30: loss=2.4530407190322876\n",
      "Epoch #31: loss=2.492090940475464\n",
      "Epoch #32: loss=2.421313762664795\n",
      "Epoch #33: loss=2.498124361038208\n",
      "Epoch #34: loss=2.573440670967102\n",
      "Epoch #35: loss=2.4055304527282715\n",
      "Epoch #36: loss=2.5545806884765625\n",
      "Epoch #37: loss=2.5556204319000244\n",
      "Epoch #38: loss=2.329920530319214\n",
      "Epoch #39: loss=2.2146689891815186\n",
      "Epoch #40: loss=2.4035295248031616\n",
      "Epoch #41: loss=2.501209259033203\n",
      "Epoch #42: loss=2.3907878398895264\n",
      "Epoch #43: loss=2.484519124031067\n",
      "Epoch #44: loss=2.4037415981292725\n",
      "Epoch #45: loss=2.424615979194641\n",
      "Epoch #46: loss=2.4279630184173584\n",
      "Epoch #47: loss=2.3854386806488037\n",
      "Epoch #48: loss=2.6193387508392334\n",
      "Epoch #49: loss=2.3515517711639404\n",
      "Epoch #50: loss=2.251729369163513\n",
      "Epoch #51: loss=2.2653214931488037\n",
      "Epoch #52: loss=2.144370913505554\n",
      "Epoch #53: loss=2.1982251405715942\n",
      "Epoch #54: loss=2.4414048194885254\n",
      "Epoch #55: loss=2.4194315671920776\n",
      "Epoch #56: loss=2.5469484329223633\n",
      "Epoch #57: loss=2.377332091331482\n",
      "Epoch #58: loss=2.396956205368042\n",
      "Epoch #59: loss=2.3773183822631836\n",
      "Epoch #60: loss=2.3433972597122192\n",
      "Epoch #61: loss=2.3844962120056152\n",
      "Epoch #62: loss=2.2858517169952393\n",
      "Epoch #63: loss=2.1660722494125366\n",
      "Epoch #64: loss=2.2146390080451965\n",
      "Epoch #65: loss=2.195490837097168\n",
      "Epoch #66: loss=2.38140869140625\n",
      "Epoch #67: loss=2.210209608078003\n",
      "Epoch #68: loss=2.1770806312561035\n",
      "Epoch #69: loss=2.0893577337265015\n",
      "Epoch #70: loss=2.000687003135681\n",
      "Epoch #71: loss=2.15378475189209\n",
      "Epoch #72: loss=2.163439631462097\n",
      "Epoch #73: loss=1.8439874649047852\n",
      "Epoch #74: loss=1.9615101218223572\n",
      "Epoch #75: loss=2.2873915433883667\n",
      "Epoch #76: loss=2.204827070236206\n",
      "Epoch #77: loss=1.9890904426574707\n",
      "Epoch #78: loss=2.2623730897903442\n",
      "Epoch #79: loss=2.1564781665802\n",
      "Epoch #80: loss=2.1653504371643066\n",
      "Epoch #81: loss=1.9210463166236877\n",
      "Epoch #82: loss=2.098170518875122\n",
      "Epoch #83: loss=1.9564735293388367\n",
      "Epoch #84: loss=1.8059607148170471\n",
      "Epoch #85: loss=1.9976613521575928\n",
      "Epoch #86: loss=1.9945682287216187\n",
      "Epoch #87: loss=1.9428660869598389\n",
      "Epoch #88: loss=1.8714998364448547\n",
      "Epoch #89: loss=1.8468186855316162\n",
      "Epoch #90: loss=1.8348553776741028\n",
      "Epoch #91: loss=1.9270113706588745\n",
      "Epoch #92: loss=1.9211071133613586\n",
      "Epoch #93: loss=1.824392557144165\n",
      "Epoch #94: loss=1.9567461013793945\n",
      "Epoch #95: loss=1.8782782554626465\n",
      "Epoch #96: loss=1.9041351675987244\n",
      "Epoch #97: loss=1.767047643661499\n",
      "Epoch #98: loss=1.8444297313690186\n",
      "Epoch #99: loss=1.7878999710083008\n"
     ]
    }
   ],
   "source": [
    "\n",
    "loss_log = model.fit(\n",
    "    train_data,\n",
    "    verbose=True\n",
    ")\n"
   ]
  },
  {
   "cell_type": "code",
   "execution_count": 18,
   "metadata": {},
   "outputs": [
    {
     "data": {
      "text/plain": [
       "(100, 96, 320)"
      ]
     },
     "execution_count": 18,
     "metadata": {},
     "output_type": "execute_result"
    }
   ],
   "source": [
    "\n",
    "# Compute timestamp-level representations for test set\n",
    "test_repr = model.encode(test_data)  # n_instances x n_timestamps x output_dims\n",
    "test_repr.shape\n"
   ]
  },
  {
   "cell_type": "code",
   "execution_count": 104,
   "metadata": {},
   "outputs": [
    {
     "data": {
      "text/plain": [
       "(40, 320)"
      ]
     },
     "execution_count": 104,
     "metadata": {},
     "output_type": "execute_result"
    }
   ],
   "source": [
    "\n",
    "# Compute instance-level representations for test set\n",
    "test_repr_2d = model.encode(test_data, encoding_window='full_series')  # n_instances x output_dims\n",
    "test_repr_2d.shape\n"
   ]
  },
  {
   "cell_type": "code",
   "execution_count": 90,
   "metadata": {},
   "outputs": [
    {
     "data": {
      "text/plain": [
       "array([2, 2, 2, 2, 2, 2, 2, 2, 2, 2, 1, 1, 1, 1, 1, 1, 1, 1, 1, 1, 3, 3,\n",
       "       3, 3, 3, 3, 3, 3, 3, 3, 0, 0, 0, 0, 0, 0, 0, 0, 0, 0])"
      ]
     },
     "execution_count": 90,
     "metadata": {},
     "output_type": "execute_result"
    }
   ],
   "source": [
    "test_labels"
   ]
  },
  {
   "cell_type": "code",
   "execution_count": 105,
   "metadata": {},
   "outputs": [
    {
     "name": "stdout",
     "output_type": "stream",
     "text": [
      "explained_variance_ratio : 83.19%\n"
     ]
    }
   ],
   "source": [
    "n_components=2\n",
    "pca = PCA(n_components=n_components)\n",
    "pca.fit(test_repr_2d)\n",
    "explained_v_ratio = pca.explained_variance_ratio_.sum()\n",
    "print(f'explained_variance_ratio : {100*explained_v_ratio:.2f}%')\n",
    "# explained_variance_ratios.append(100*explained_variance_ratio)\n",
    "# print(f'N : {n:2d}, N_union : {len(index_n_unions[n-1]):3d}, Explained_variance_ratio : {100*explained_variance_ratio:.2f} %', end='\\r')\n",
    "\n",
    "pca_embed = pca.transform(test_repr_2d)"
   ]
  },
  {
   "cell_type": "code",
   "execution_count": 106,
   "metadata": {},
   "outputs": [
    {
     "name": "stdout",
     "output_type": "stream",
     "text": [
      "Number of clusters : 3\n",
      "outlier_perc : = 70.00 %\n"
     ]
    },
    {
     "data": {
      "text/plain": [
       "array([-1, -1, -1,  0,  0,  0, -1, -1,  0,  0, -1, -1, -1, -1, -1, -1, -1,\n",
       "       -1, -1, -1,  1, -1,  1,  1, -1,  1,  1, -1,  1,  1, -1, -1, -1, -1,\n",
       "       -1, -1, -1, -1, -1, -1])"
      ]
     },
     "execution_count": 106,
     "metadata": {},
     "output_type": "execute_result"
    }
   ],
   "source": [
    "c_method = 'OPTICS'\n",
    "min_samples = 3\n",
    "max_eps = 1.0 # np.inf\n",
    "xi = 0.05\n",
    "\n",
    "clustering = OPTICS(min_samples=min_samples, max_eps=max_eps, xi=xi, n_jobs=10).fit(test_repr_2d)\n",
    "cluster_labels_ = clustering.labels_\n",
    "n_labels = len(np.unique(cluster_labels_))\n",
    "print(f'Number of clusters : {n_labels}')\n",
    "print(f'outlier_perc : = {(np.sum(cluster_labels_== -1)/ len(cluster_labels_))*100 :.2f} %')\n",
    "cluster_labels_"
   ]
  },
  {
   "cell_type": "code",
   "execution_count": 107,
   "metadata": {},
   "outputs": [
    {
     "data": {
      "image/png": "[encoded data removed]",
      "text/plain": [
       "<Figure size 640x480 with 1 Axes>"
      ]
     },
     "metadata": {},
     "output_type": "display_data"
    }
   ],
   "source": [
    "m_outlier =  cluster_labels_ == -1\n",
    "plt.scatter(\n",
    "    pca_embed[m_outlier, 0],\n",
    "    pca_embed[m_outlier, 1],\n",
    "    c='lightgrey')\n",
    "# plt.gca().set_aspect('equal', 'datalim')\n",
    "\n",
    "plt.scatter(\n",
    "    pca_embed[~m_outlier, 0],\n",
    "    pca_embed[~m_outlier, 1],\n",
    "    c=cluster_labels_[~m_outlier])\n",
    "plt.gca().set_aspect('equal', 'datalim')"
   ]
  },
  {
   "cell_type": "code",
   "execution_count": 108,
   "metadata": {},
   "outputs": [
    {
     "data": {
      "image/png": "[encoded data removed]",
      "text/plain": [
       "<Figure size 640x480 with 1 Axes>"
      ]
     },
     "metadata": {},
     "output_type": "display_data"
    }
   ],
   "source": [
    "plt.scatter(\n",
    "    pca_embed[:, 0],\n",
    "    pca_embed[:, 1],\n",
    "    c=test_labels)\n",
    "plt.gca().set_aspect('equal', 'datalim')"
   ]
  },
  {
   "cell_type": "code",
   "execution_count": 109,
   "metadata": {},
   "outputs": [],
   "source": [
    "import umap\n",
    "reducer = umap.UMAP()"
   ]
  },
  {
   "cell_type": "code",
   "execution_count": 110,
   "metadata": {},
   "outputs": [
    {
     "data": {
      "text/plain": [
       "(40, 2)"
      ]
     },
     "execution_count": 110,
     "metadata": {},
     "output_type": "execute_result"
    }
   ],
   "source": [
    "embedding = reducer.fit_transform(test_repr_2d)\n",
    "embedding.shape"
   ]
  },
  {
   "cell_type": "code",
   "execution_count": 111,
   "metadata": {},
   "outputs": [
    {
     "data": {
      "text/plain": [
       "array([2, 2, 2, 2, 2, 2, 2, 2, 2, 2, 1, 1, 1, 1, 1, 1, 1, 1, 1, 1, 3, 3,\n",
       "       3, 3, 3, 3, 3, 3, 3, 3, 0, 0, 0, 0, 0, 0, 0, 0, 0, 0])"
      ]
     },
     "execution_count": 111,
     "metadata": {},
     "output_type": "execute_result"
    }
   ],
   "source": [
    "test_labels"
   ]
  },
  {
   "cell_type": "code",
   "execution_count": 112,
   "metadata": {},
   "outputs": [
    {
     "data": {
      "image/png": "[encoded data removed]",
      "text/plain": [
       "<Figure size 640x480 with 1 Axes>"
      ]
     },
     "metadata": {},
     "output_type": "display_data"
    }
   ],
   "source": [
    "plt.scatter(\n",
    "    embedding[:, 0],\n",
    "    embedding[:, 1],\n",
    "    c=test_labels)\n",
    "plt.gca().set_aspect('equal', 'datalim')\n",
    "# plt.title('UMAP projection of the Penguin dataset', fontsize=24);"
   ]
  },
  {
   "cell_type": "code",
   "execution_count": 20,
   "metadata": {},
   "outputs": [
    {
     "data": {
      "text/plain": [
       "(100, 96, 320)"
      ]
     },
     "execution_count": 20,
     "metadata": {},
     "output_type": "execute_result"
    }
   ],
   "source": [
    "\n",
    "# Sliding inference for test set\n",
    "test_repr = model.encode(\n",
    "    test_data,\n",
    "    casual=True,\n",
    "    sliding_length=1,\n",
    "    sliding_padding=50\n",
    ")  # n_instances x n_timestamps x output_dims\n",
    "# (The timestamp t's representation vector is computed using the observations located in [t-50, t])\n",
    "test_repr.shape"
   ]
  },
  {
   "cell_type": "code",
   "execution_count": null,
   "metadata": {},
   "outputs": [],
   "source": []
  }
 ],
 "metadata": {
  "kernelspec": {
   "display_name": "Python 3.8.15 ('ts2vec')",
   "language": "python",
   "name": "python3"
  },
  "language_info": {
   "codemirror_mode": {
    "name": "ipython",
    "version": 3
   },
   "file_extension": ".py",
   "mimetype": "text/x-python",
   "name": "python",
   "nbconvert_exporter": "python",
   "pygments_lexer": "ipython3",
   "version": "3.8.15"
  },
  "orig_nbformat": 4,
  "vscode": {
   "interpreter": {
    "hash": "de8035c0791e3f5dd0222ef9fd7dfc23412db4712fcbdd2cb1b8cc3ca1861e39"
   }
  }
 },
 "nbformat": 4,
 "nbformat_minor": 2
}
