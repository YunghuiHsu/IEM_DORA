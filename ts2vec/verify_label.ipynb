{
 "cells": [
  {
   "cell_type": "code",
   "execution_count": 38,
   "metadata": {},
   "outputs": [
    {
     "name": "stdout",
     "output_type": "stream",
     "text": [
      "1.19.2\n",
      "1.3.3\n",
      "1.8.1+cu111\n",
      "Python 3.8.10\n"
     ]
    }
   ],
   "source": [
    "\n",
    "import io\n",
    "import os\n",
    "import time\n",
    "import datetime\n",
    "import json\n",
    "import shutil\n",
    "import numpy as np\n",
    "import pandas as pd\n",
    "# import folium # draw route on map\n",
    "from folium import plugins\n",
    "import datetime\n",
    "from datetime import timedelta\n",
    "from pathlib import Path\n",
    "from scipy.io import arff\n",
    "import folium  # draw route on map\n",
    "from folium import plugins\n",
    "from PIL import Image\n",
    "\n",
    "import matplotlib.pyplot as plt\n",
    "from mpl_toolkits.mplot3d import Axes3D\n",
    "import seaborn as sns\n",
    "# import plotly.express as px\n",
    "# import plotly.graph_objects as go\n",
    "%matplotlib inline\n",
    "\n",
    "import torch\n",
    "import umap\n",
    "from sklearn.decomposition import PCA\n",
    "from sklearn.preprocessing import StandardScaler\n",
    "from sklearn.cluster import OPTICS,  DBSCAN, Birch \n",
    "from sklearn.preprocessing import label_binarize\n",
    "from sklearn.metrics import average_precision_score\n",
    "\n",
    "from ts2vec import TS2Vec\n",
    "import datautils\n",
    "from tasks import _eval_protocols as eval_protocols\n",
    "\n",
    "print(np.__version__)\n",
    "print(pd.__version__)\n",
    "print(torch.__version__)\n",
    "!python3 --version\n",
    "\n",
    "dir_training = Path('training')"
   ]
  },
  {
   "cell_type": "markdown",
   "metadata": {},
   "source": [
    "## load pretrained model"
   ]
  },
  {
   "cell_type": "code",
   "execution_count": 40,
   "metadata": {},
   "outputs": [],
   "source": [
    "n_feature = 6\n",
    "# Train a TS2Vec model\n",
    "model = TS2Vec(\n",
    "    input_dims=n_feature,\n",
    "    device='cuda',\n",
    "    output_dims=320\n",
    ")\n",
    "model_path = 'training/dora_b16_320d/model_500.pkl'\n",
    "model.load(model_path)"
   ]
  },
  {
   "cell_type": "markdown",
   "metadata": {},
   "source": [
    "## Load embedding "
   ]
  },
  {
   "cell_type": "code",
   "execution_count": 41,
   "metadata": {},
   "outputs": [
    {
     "data": {
      "text/plain": [
       "(7972, 320)"
      ]
     },
     "execution_count": 41,
     "metadata": {},
     "output_type": "execute_result"
    }
   ],
   "source": [
    "train_array = np.load(f'datasets/DORA/dora.npz',)['sensor'].astype(np.float64)\n",
    "mean = np.nanmean(train_array)\n",
    "std = np.nanstd(train_array)\n",
    "train_array = (train_array - mean) / std\n",
    "\n",
    "# # Compute instance-level representations for dataset\n",
    "embedding  = model.encode(train_array, encoding_window='full_series')  # n_instances x output_dims\n",
    "embedding.shape"
   ]
  },
  {
   "cell_type": "code",
   "execution_count": 42,
   "metadata": {},
   "outputs": [],
   "source": [
    "# ck = f'b16_320d_ck500'\n",
    "# save_path = Path('embedding')\n",
    "\n",
    "# embedding = np.load(save_path/f'embedding_{ck}.npz',)['embedding']\n",
    "# print(f'{save_path}/embedding_{ck}.npz loaded')\n",
    "# print(embedding.shape)"
   ]
  },
  {
   "cell_type": "markdown",
   "metadata": {},
   "source": [
    "### load train , test data"
   ]
  },
  {
   "cell_type": "code",
   "execution_count": 7,
   "metadata": {},
   "outputs": [],
   "source": [
    "train_data, train_labels, test_data, test_labels = datautils.load_DORA_KA51AG8742('dora_KA51AG8742')\n",
    "\n",
    "mean = np.nanmean(train_data)\n",
    "std = np.nanstd(train_data)\n",
    "train_data = (train_data - mean) / std\n",
    "test_data = (test_data - mean) / std"
   ]
  },
  {
   "cell_type": "code",
   "execution_count": 8,
   "metadata": {},
   "outputs": [
    {
     "name": "stdout",
     "output_type": "stream",
     "text": [
      "(2313, 320) (992, 320)\n"
     ]
    }
   ],
   "source": [
    "# # Compute instance-level representations for dataset\n",
    "train_repr = model.encode(train_data, encoding_window='full_series')  # n_instances x output_dims\n",
    "test_repr = model.encode(test_data, encoding_window='full_series')  # n_instances x output_dims\n",
    "print(train_repr.shape, test_repr.shape)"
   ]
  },
  {
   "attachments": {},
   "cell_type": "markdown",
   "metadata": {},
   "source": [
    "## fit classification model"
   ]
  },
  {
   "cell_type": "code",
   "execution_count": 9,
   "metadata": {},
   "outputs": [],
   "source": [
    "\n",
    "eval_protocol = 'linear'\n",
    "\n",
    "if eval_protocol == 'linear':\n",
    "    fit_clf = eval_protocols.fit_lr\n",
    "elif eval_protocol == 'svm':\n",
    "    fit_clf = eval_protocols.fit_svm\n",
    "elif eval_protocol == 'knn':\n",
    "    fit_clf = eval_protocols.fit_knn"
   ]
  },
  {
   "cell_type": "code",
   "execution_count": 10,
   "metadata": {},
   "outputs": [],
   "source": [
    "def merge_dim01(array):\n",
    "    return array.reshape(array.shape[0]*array.shape[1], *array.shape[2:])\n",
    "\n",
    "if train_labels.ndim == 2:\n",
    "    train_repr = merge_dim01(train_repr)\n",
    "    train_labels = merge_dim01(train_labels)\n",
    "    test_repr = merge_dim01(test_repr)\n",
    "    test_labels = merge_dim01(test_labels)"
   ]
  },
  {
   "cell_type": "code",
   "execution_count": 11,
   "metadata": {},
   "outputs": [
    {
     "name": "stdout",
     "output_type": "stream",
     "text": [
      "acc :  0.657258064516129\n",
      "auprc :  0.35526617266141397\n"
     ]
    }
   ],
   "source": [
    "clf = fit_clf(train_repr, train_labels)\n",
    "acc = clf.score(test_repr, test_labels)\n",
    "\n",
    "test_labels_onehot = label_binarize(test_labels, classes=np.arange(train_labels.max()+1))\n",
    "\n",
    "if eval_protocol == 'linear':\n",
    "    y_score = clf.predict_proba(test_repr)  # probability of label : [0, 1]\n",
    "    auprc = average_precision_score(test_labels_onehot, y_score[:, 1])\n",
    "else:\n",
    "    y_score = clf.decision_function(test_repr)\n",
    "    auprc = average_precision_score(test_labels_onehot, y_score)\n",
    "\n",
    "print('acc : ', acc)\n",
    "print('auprc : ',auprc)\n"
   ]
  },
  {
   "cell_type": "code",
   "execution_count": 12,
   "metadata": {},
   "outputs": [
    {
     "name": "stdout",
     "output_type": "stream",
     "text": [
      "pred of test Label 0 : 0.8326612903225806\n",
      "Truth of test Label 0 : 0.6955645161290323\n"
     ]
    }
   ],
   "source": [
    "pred_test = clf.predict(test_repr)\n",
    "pred_label0 =  1- (np.count_nonzero(pred_test) / len(test_labels))\n",
    "ground_label0 =  1- (np.count_nonzero(test_labels) / len(test_labels))\n",
    "print(f'pred of test Label 0 : {pred_label0 }') \n",
    "print(f'Truth of test Label 0 : {ground_label0}') \n",
    " \n"
   ]
  },
  {
   "cell_type": "code",
   "execution_count": 13,
   "metadata": {},
   "outputs": [
    {
     "name": "stdout",
     "output_type": "stream",
     "text": [
      "992\n"
     ]
    },
    {
     "data": {
      "image/png": "[encoded data removed]",
      "text/plain": [
       "<Figure size 640x480 with 1 Axes>"
      ]
     },
     "metadata": {},
     "output_type": "display_data"
    }
   ],
   "source": [
    "from sklearn.metrics import (precision_recall_curve,\n",
    "                             PrecisionRecallDisplay)\n",
    "test_pred = clf.predict(test_repr)\n",
    "print(len(test_pred))\n",
    "precision, recall, _ = precision_recall_curve(test_labels, test_pred)\n",
    "disp = PrecisionRecallDisplay(precision=precision, recall=recall )\n",
    "disp.plot();"
   ]
  },
  {
   "cell_type": "code",
   "execution_count": 25,
   "metadata": {},
   "outputs": [
    {
     "name": "stdout",
     "output_type": "stream",
     "text": [
      "              precision    recall  f1-score   support\n",
      "\n",
      "           0       0.71      0.85      0.78       690\n",
      "           1       0.39      0.21      0.27       302\n",
      "\n",
      "    accuracy                           0.66       992\n",
      "   macro avg       0.55      0.53      0.52       992\n",
      "weighted avg       0.61      0.66      0.62       992\n",
      "\n"
     ]
    },
    {
     "data": {
      "image/png": "[encoded data removed]",
      "text/plain": [
       "<Figure size 640x480 with 2 Axes>"
      ]
     },
     "metadata": {},
     "output_type": "display_data"
    }
   ],
   "source": [
    "from sklearn.metrics import confusion_matrix, ConfusionMatrixDisplay, classification_report\n",
    "print(classification_report(y_true=test_labels, y_pred=test_pred))\n",
    "\n",
    "cm = confusion_matrix(y_true=test_labels, y_pred=test_pred)\n",
    "ConfusionMatrixDisplay(cm, display_labels=clf.classes_).plot();"
   ]
  },
  {
   "cell_type": "markdown",
   "metadata": {},
   "source": [
    "--- "
   ]
  },
  {
   "cell_type": "markdown",
   "metadata": {},
   "source": [
    "## label by predictions"
   ]
  },
  {
   "cell_type": "code",
   "execution_count": 40,
   "metadata": {},
   "outputs": [
    {
     "name": "stdout",
     "output_type": "stream",
     "text": [
      "Number of abnormal : 257( 3.22%) \n"
     ]
    }
   ],
   "source": [
    "\n",
    "pred_prob  = clf.predict_proba(embedding)[:, 1]\n",
    "threshold = 0.8\n",
    "prediction_all = np.where(pred_prob > threshold, 1, 0 ) \n",
    "n_abnormal = np.count_nonzero(prediction_all)\n",
    "print(f'Number of abnormal : {n_abnormal}({100*n_abnormal/len(prediction_all):5.2f}%) ')\n",
    " "
   ]
  },
  {
   "cell_type": "code",
   "execution_count": 30,
   "metadata": {},
   "outputs": [
    {
     "name": "stdout",
     "output_type": "stream",
     "text": [
      "umap2d200n_embedding_b16_320d_ck500\n",
      "(7972, 2)\n"
     ]
    }
   ],
   "source": [
    "ck = f'b16_320d_ck500'\n",
    "save_path = Path('embedding')\n",
    "file_umap_2d = f'umap2d200n_embedding_{ck}'\n",
    "# file_umap_3d = f'umap3d200n_embedding_{ck}'\n",
    "\n",
    "print(file_umap_2d, )\n",
    "\n",
    "# print(file_umap_3d )\n",
    "\n",
    "umap_embed = np.load(save_path/f'{file_umap_2d}.npz',)['embedding']\n",
    "print(umap_embed.shape)"
   ]
  },
  {
   "cell_type": "markdown",
   "metadata": {},
   "source": [
    "- def plot_scatter2d_c()"
   ]
  },
  {
   "cell_type": "code",
   "execution_count": 32,
   "metadata": {},
   "outputs": [],
   "source": []
  },
  {
   "cell_type": "code",
   "execution_count": 41,
   "metadata": {},
   "outputs": [
    {
     "data": {
      "image/png": "[encoded data removed]",
      "text/plain": [
       "<Figure size 640x480 with 1 Axes>"
      ]
     },
     "metadata": {},
     "output_type": "display_data"
    }
   ],
   "source": [
    "idx_abnormal = prediction_all == 1\n",
    "labels = prediction_all\n",
    "save_plot = Path('plot/umap')\n",
    "title =  f'Label by predictions'\n",
    "# title += f'abnormal'\n",
    "save_path = save_plot/f'{title}.png'\n",
    "s=1\n",
    "alpha=0.8\n",
    "\n",
    "fig, ax = plt.subplots()\n",
    "\n",
    "scatter = ax.scatter(umap_embed[~idx_abnormal,0], umap_embed[~idx_abnormal,1], \n",
    "            c='grey',  s=s, alpha=alpha, \n",
    "            # edgecolors='black', lw=.03\n",
    "            )\n",
    "\n",
    "scatter = ax.scatter(umap_embed[idx_abnormal,0], umap_embed[idx_abnormal,1], \n",
    "            c='red',  s=s, alpha=alpha, \n",
    "            # edgecolors='black', lw=.03\n",
    "            )\n",
    "# plt.colorbar(scatter)\n",
    "fig.suptitle(title)\n",
    "fig.savefig(save_path, bbox_inches='tight')\n",
    "\n",
    "# plot_scatter2d_c(umap_embed, labels=labels, title=title , save_path=save_path)"
   ]
  },
  {
   "cell_type": "code",
   "execution_count": null,
   "metadata": {},
   "outputs": [
    {
     "data": {
      "text/html": [
       "<div>\n",
       "<style scoped>\n",
       "    .dataframe tbody tr th:only-of-type {\n",
       "        vertical-align: middle;\n",
       "    }\n",
       "\n",
       "    .dataframe tbody tr th {\n",
       "        vertical-align: top;\n",
       "    }\n",
       "\n",
       "    .dataframe thead th {\n",
       "        text-align: right;\n",
       "    }\n",
       "</style>\n",
       "<table border=\"1\" class=\"dataframe\">\n",
       "  <thead>\n",
       "    <tr style=\"text-align: right;\">\n",
       "      <th></th>\n",
       "      <th>PseudoLabel</th>\n",
       "    </tr>\n",
       "  </thead>\n",
       "  <tbody>\n",
       "    <tr>\n",
       "      <th>0</th>\n",
       "      <td>0</td>\n",
       "    </tr>\n",
       "    <tr>\n",
       "      <th>1</th>\n",
       "      <td>0</td>\n",
       "    </tr>\n",
       "    <tr>\n",
       "      <th>2</th>\n",
       "      <td>0</td>\n",
       "    </tr>\n",
       "    <tr>\n",
       "      <th>3</th>\n",
       "      <td>0</td>\n",
       "    </tr>\n",
       "    <tr>\n",
       "      <th>4</th>\n",
       "      <td>0</td>\n",
       "    </tr>\n",
       "    <tr>\n",
       "      <th>...</th>\n",
       "      <td>...</td>\n",
       "    </tr>\n",
       "    <tr>\n",
       "      <th>7967</th>\n",
       "      <td>1</td>\n",
       "    </tr>\n",
       "    <tr>\n",
       "      <th>7968</th>\n",
       "      <td>1</td>\n",
       "    </tr>\n",
       "    <tr>\n",
       "      <th>7969</th>\n",
       "      <td>0</td>\n",
       "    </tr>\n",
       "    <tr>\n",
       "      <th>7970</th>\n",
       "      <td>0</td>\n",
       "    </tr>\n",
       "    <tr>\n",
       "      <th>7971</th>\n",
       "      <td>0</td>\n",
       "    </tr>\n",
       "  </tbody>\n",
       "</table>\n",
       "<p>7972 rows × 1 columns</p>\n",
       "</div>"
      ],
      "text/plain": [
       "      PseudoLabel\n",
       "0               0\n",
       "1               0\n",
       "2               0\n",
       "3               0\n",
       "4               0\n",
       "...           ...\n",
       "7967            1\n",
       "7968            1\n",
       "7969            0\n",
       "7970            0\n",
       "7971            0\n",
       "\n",
       "[7972 rows x 1 columns]"
      ]
     },
     "execution_count": 151,
     "metadata": {},
     "output_type": "execute_result"
    }
   ],
   "source": [
    "df_pLabel =  pd.DataFrame(prediction_all, columns=['PseudoLabel'])\n",
    "                     \n",
    "path_ = 'datasets/DORA/pseudoLabel.csv'\n",
    "df_pLabel.to_csv(path_)\n",
    "\n",
    "df_pLabel = pd.read_csv(path_, index_col=0)\n",
    "df_pLabel"
   ]
  },
  {
   "cell_type": "markdown",
   "metadata": {},
   "source": [
    "### sample profile of abnormal label "
   ]
  },
  {
   "cell_type": "code",
   "execution_count": null,
   "metadata": {},
   "outputs": [
    {
     "data": {
      "text/html": [
       "<div>\n",
       "<style scoped>\n",
       "    .dataframe tbody tr th:only-of-type {\n",
       "        vertical-align: middle;\n",
       "    }\n",
       "\n",
       "    .dataframe tbody tr th {\n",
       "        vertical-align: top;\n",
       "    }\n",
       "\n",
       "    .dataframe thead th {\n",
       "        text-align: right;\n",
       "    }\n",
       "</style>\n",
       "<table border=\"1\" class=\"dataframe\">\n",
       "  <thead>\n",
       "    <tr style=\"text-align: right;\">\n",
       "      <th></th>\n",
       "      <th>vehicle_id</th>\n",
       "      <th>event_id</th>\n",
       "    </tr>\n",
       "  </thead>\n",
       "  <tbody>\n",
       "    <tr>\n",
       "      <th>0</th>\n",
       "      <td>KA01AF2992</td>\n",
       "      <td>1</td>\n",
       "    </tr>\n",
       "    <tr>\n",
       "      <th>1</th>\n",
       "      <td>KA01AF2992</td>\n",
       "      <td>2</td>\n",
       "    </tr>\n",
       "    <tr>\n",
       "      <th>2</th>\n",
       "      <td>KA01AF2992</td>\n",
       "      <td>3</td>\n",
       "    </tr>\n",
       "    <tr>\n",
       "      <th>3</th>\n",
       "      <td>KA01AF2992</td>\n",
       "      <td>4</td>\n",
       "    </tr>\n",
       "    <tr>\n",
       "      <th>4</th>\n",
       "      <td>KA01AF2992</td>\n",
       "      <td>7</td>\n",
       "    </tr>\n",
       "    <tr>\n",
       "      <th>...</th>\n",
       "      <td>...</td>\n",
       "      <td>...</td>\n",
       "    </tr>\n",
       "    <tr>\n",
       "      <th>7967</th>\n",
       "      <td>MH04KF8187</td>\n",
       "      <td>1093</td>\n",
       "    </tr>\n",
       "    <tr>\n",
       "      <th>7968</th>\n",
       "      <td>MH04KF8187</td>\n",
       "      <td>1094</td>\n",
       "    </tr>\n",
       "    <tr>\n",
       "      <th>7969</th>\n",
       "      <td>MH04KF8187</td>\n",
       "      <td>1095</td>\n",
       "    </tr>\n",
       "    <tr>\n",
       "      <th>7970</th>\n",
       "      <td>MH04KF8187</td>\n",
       "      <td>1096</td>\n",
       "    </tr>\n",
       "    <tr>\n",
       "      <th>7971</th>\n",
       "      <td>MH04KF8187</td>\n",
       "      <td>1097</td>\n",
       "    </tr>\n",
       "  </tbody>\n",
       "</table>\n",
       "<p>7972 rows × 2 columns</p>\n",
       "</div>"
      ],
      "text/plain": [
       "      vehicle_id  event_id\n",
       "0     KA01AF2992         1\n",
       "1     KA01AF2992         2\n",
       "2     KA01AF2992         3\n",
       "3     KA01AF2992         4\n",
       "4     KA01AF2992         7\n",
       "...          ...       ...\n",
       "7967  MH04KF8187      1093\n",
       "7968  MH04KF8187      1094\n",
       "7969  MH04KF8187      1095\n",
       "7970  MH04KF8187      1096\n",
       "7971  MH04KF8187      1097\n",
       "\n",
       "[7972 rows x 2 columns]"
      ]
     },
     "execution_count": 152,
     "metadata": {},
     "output_type": "execute_result"
    }
   ],
   "source": [
    "file = 'datasets/DORA/dora_meta.csv'\n",
    "meta = pd.read_csv(file , index_col=0)\n",
    "meta['timestamp_conv'] = meta['timestamp_conv'].astype('datetime64[s]')\n",
    "meta.drop(['timestamp', 'gsen_timeTick', 'gyro_timeTick'], axis=1, inplace=True)\n",
    "meta_vehicle_id  = meta.groupby(['vehicle_id', 'event_id']).id.count().reset_index().drop(['id'], axis=1)\n",
    "meta_vehicle_id"
   ]
  },
  {
   "cell_type": "code",
   "execution_count": null,
   "metadata": {},
   "outputs": [
    {
     "data": {
      "text/html": [
       "<div>\n",
       "<style scoped>\n",
       "    .dataframe tbody tr th:only-of-type {\n",
       "        vertical-align: middle;\n",
       "    }\n",
       "\n",
       "    .dataframe tbody tr th {\n",
       "        vertical-align: top;\n",
       "    }\n",
       "\n",
       "    .dataframe thead th {\n",
       "        text-align: right;\n",
       "    }\n",
       "</style>\n",
       "<table border=\"1\" class=\"dataframe\">\n",
       "  <thead>\n",
       "    <tr style=\"text-align: right;\">\n",
       "      <th></th>\n",
       "      <th>vehicle_id</th>\n",
       "      <th>event_id</th>\n",
       "      <th>PseudoLabel</th>\n",
       "    </tr>\n",
       "  </thead>\n",
       "  <tbody>\n",
       "    <tr>\n",
       "      <th>0</th>\n",
       "      <td>KA01AF2992</td>\n",
       "      <td>1</td>\n",
       "      <td>0</td>\n",
       "    </tr>\n",
       "    <tr>\n",
       "      <th>1</th>\n",
       "      <td>KA01AF2992</td>\n",
       "      <td>2</td>\n",
       "      <td>0</td>\n",
       "    </tr>\n",
       "    <tr>\n",
       "      <th>2</th>\n",
       "      <td>KA01AF2992</td>\n",
       "      <td>3</td>\n",
       "      <td>0</td>\n",
       "    </tr>\n",
       "    <tr>\n",
       "      <th>3</th>\n",
       "      <td>KA01AF2992</td>\n",
       "      <td>4</td>\n",
       "      <td>0</td>\n",
       "    </tr>\n",
       "    <tr>\n",
       "      <th>4</th>\n",
       "      <td>KA01AF2992</td>\n",
       "      <td>7</td>\n",
       "      <td>0</td>\n",
       "    </tr>\n",
       "    <tr>\n",
       "      <th>...</th>\n",
       "      <td>...</td>\n",
       "      <td>...</td>\n",
       "      <td>...</td>\n",
       "    </tr>\n",
       "    <tr>\n",
       "      <th>7967</th>\n",
       "      <td>MH04KF8187</td>\n",
       "      <td>1093</td>\n",
       "      <td>1</td>\n",
       "    </tr>\n",
       "    <tr>\n",
       "      <th>7968</th>\n",
       "      <td>MH04KF8187</td>\n",
       "      <td>1094</td>\n",
       "      <td>1</td>\n",
       "    </tr>\n",
       "    <tr>\n",
       "      <th>7969</th>\n",
       "      <td>MH04KF8187</td>\n",
       "      <td>1095</td>\n",
       "      <td>0</td>\n",
       "    </tr>\n",
       "    <tr>\n",
       "      <th>7970</th>\n",
       "      <td>MH04KF8187</td>\n",
       "      <td>1096</td>\n",
       "      <td>0</td>\n",
       "    </tr>\n",
       "    <tr>\n",
       "      <th>7971</th>\n",
       "      <td>MH04KF8187</td>\n",
       "      <td>1097</td>\n",
       "      <td>0</td>\n",
       "    </tr>\n",
       "  </tbody>\n",
       "</table>\n",
       "<p>7972 rows × 3 columns</p>\n",
       "</div>"
      ],
      "text/plain": [
       "      vehicle_id  event_id  PseudoLabel\n",
       "0     KA01AF2992         1            0\n",
       "1     KA01AF2992         2            0\n",
       "2     KA01AF2992         3            0\n",
       "3     KA01AF2992         4            0\n",
       "4     KA01AF2992         7            0\n",
       "...          ...       ...          ...\n",
       "7967  MH04KF8187      1093            1\n",
       "7968  MH04KF8187      1094            1\n",
       "7969  MH04KF8187      1095            0\n",
       "7970  MH04KF8187      1096            0\n",
       "7971  MH04KF8187      1097            0\n",
       "\n",
       "[7972 rows x 3 columns]"
      ]
     },
     "execution_count": 153,
     "metadata": {},
     "output_type": "execute_result"
    }
   ],
   "source": [
    "file = 'datasets/DORA/dora_meta.csv'\n",
    "meta = pd.read_csv(file , index_col=0)\n",
    "meta['timestamp_conv'] = meta['timestamp_conv'].astype('datetime64[s]')\n",
    "meta.drop(['timestamp', 'gsen_timeTick', 'gyro_timeTick'], axis=1, inplace=True)\n",
    "meta_vehicle_id  = meta.groupby(['vehicle_id', 'event_id']).id.count().reset_index().drop(['id'], axis=1)\n",
    "\n",
    "meta_vehicle_id = meta_vehicle_id.merge(df_pLabel, left_index=True, right_index=True) \n",
    "\n",
    "meta_vehicle_id"
   ]
  },
  {
   "cell_type": "code",
   "execution_count": null,
   "metadata": {},
   "outputs": [
    {
     "data": {
      "text/html": [
       "<div>\n",
       "<style scoped>\n",
       "    .dataframe tbody tr th:only-of-type {\n",
       "        vertical-align: middle;\n",
       "    }\n",
       "\n",
       "    .dataframe tbody tr th {\n",
       "        vertical-align: top;\n",
       "    }\n",
       "\n",
       "    .dataframe thead th {\n",
       "        text-align: right;\n",
       "    }\n",
       "</style>\n",
       "<table border=\"1\" class=\"dataframe\">\n",
       "  <thead>\n",
       "    <tr style=\"text-align: right;\">\n",
       "      <th></th>\n",
       "      <th>P_Abnormal</th>\n",
       "    </tr>\n",
       "    <tr>\n",
       "      <th>vehicle_id</th>\n",
       "      <th></th>\n",
       "    </tr>\n",
       "  </thead>\n",
       "  <tbody>\n",
       "    <tr>\n",
       "      <th>KA01AF2992</th>\n",
       "      <td>0.268116</td>\n",
       "    </tr>\n",
       "    <tr>\n",
       "      <th>KA01AF482</th>\n",
       "      <td>0.119828</td>\n",
       "    </tr>\n",
       "    <tr>\n",
       "      <th>KA04MW6569</th>\n",
       "      <td>0.256477</td>\n",
       "    </tr>\n",
       "    <tr>\n",
       "      <th>KA51AG8742</th>\n",
       "      <td>0.246479</td>\n",
       "    </tr>\n",
       "    <tr>\n",
       "      <th>MH04KF8187</th>\n",
       "      <td>0.201507</td>\n",
       "    </tr>\n",
       "  </tbody>\n",
       "</table>\n",
       "</div>"
      ],
      "text/plain": [
       "            P_Abnormal\n",
       "vehicle_id            \n",
       "KA01AF2992    0.268116\n",
       "KA01AF482     0.119828\n",
       "KA04MW6569    0.256477\n",
       "KA51AG8742    0.246479\n",
       "MH04KF8187    0.201507"
      ]
     },
     "execution_count": 154,
     "metadata": {},
     "output_type": "execute_result"
    }
   ],
   "source": [
    "n = meta_vehicle_id.groupby(['vehicle_id']).event_id.count()\n",
    "n_abnormal =  meta_vehicle_id.groupby(['vehicle_id']).PseudoLabel.sum()\n",
    "# n_abnormal['abnalmal_P'] = n_abnormal/n\n",
    "pd.DataFrame(n_abnormal/n, columns=['P_Abnormal'])"
   ]
  },
  {
   "cell_type": "code",
   "execution_count": null,
   "metadata": {},
   "outputs": [
    {
     "data": {
      "text/html": [
       "<div>\n",
       "<style scoped>\n",
       "    .dataframe tbody tr th:only-of-type {\n",
       "        vertical-align: middle;\n",
       "    }\n",
       "\n",
       "    .dataframe tbody tr th {\n",
       "        vertical-align: top;\n",
       "    }\n",
       "\n",
       "    .dataframe thead th {\n",
       "        text-align: right;\n",
       "    }\n",
       "</style>\n",
       "<table border=\"1\" class=\"dataframe\">\n",
       "  <thead>\n",
       "    <tr style=\"text-align: right;\">\n",
       "      <th></th>\n",
       "      <th>vehicle_id</th>\n",
       "      <th>event_id</th>\n",
       "      <th>PseudoLabel</th>\n",
       "    </tr>\n",
       "  </thead>\n",
       "  <tbody>\n",
       "    <tr>\n",
       "      <th>31</th>\n",
       "      <td>KA01AF2992</td>\n",
       "      <td>35</td>\n",
       "      <td>1</td>\n",
       "    </tr>\n",
       "    <tr>\n",
       "      <th>34</th>\n",
       "      <td>KA01AF2992</td>\n",
       "      <td>38</td>\n",
       "      <td>1</td>\n",
       "    </tr>\n",
       "    <tr>\n",
       "      <th>35</th>\n",
       "      <td>KA01AF2992</td>\n",
       "      <td>39</td>\n",
       "      <td>1</td>\n",
       "    </tr>\n",
       "    <tr>\n",
       "      <th>40</th>\n",
       "      <td>KA01AF2992</td>\n",
       "      <td>44</td>\n",
       "      <td>1</td>\n",
       "    </tr>\n",
       "    <tr>\n",
       "      <th>66</th>\n",
       "      <td>KA01AF2992</td>\n",
       "      <td>70</td>\n",
       "      <td>1</td>\n",
       "    </tr>\n",
       "    <tr>\n",
       "      <th>...</th>\n",
       "      <td>...</td>\n",
       "      <td>...</td>\n",
       "      <td>...</td>\n",
       "    </tr>\n",
       "    <tr>\n",
       "      <th>7924</th>\n",
       "      <td>MH04KF8187</td>\n",
       "      <td>1050</td>\n",
       "      <td>1</td>\n",
       "    </tr>\n",
       "    <tr>\n",
       "      <th>7939</th>\n",
       "      <td>MH04KF8187</td>\n",
       "      <td>1065</td>\n",
       "      <td>1</td>\n",
       "    </tr>\n",
       "    <tr>\n",
       "      <th>7942</th>\n",
       "      <td>MH04KF8187</td>\n",
       "      <td>1068</td>\n",
       "      <td>1</td>\n",
       "    </tr>\n",
       "    <tr>\n",
       "      <th>7948</th>\n",
       "      <td>MH04KF8187</td>\n",
       "      <td>1074</td>\n",
       "      <td>1</td>\n",
       "    </tr>\n",
       "    <tr>\n",
       "      <th>7965</th>\n",
       "      <td>MH04KF8187</td>\n",
       "      <td>1091</td>\n",
       "      <td>1</td>\n",
       "    </tr>\n",
       "  </tbody>\n",
       "</table>\n",
       "<p>593 rows × 3 columns</p>\n",
       "</div>"
      ],
      "text/plain": [
       "      vehicle_id  event_id  PseudoLabel\n",
       "31    KA01AF2992        35            1\n",
       "34    KA01AF2992        38            1\n",
       "35    KA01AF2992        39            1\n",
       "40    KA01AF2992        44            1\n",
       "66    KA01AF2992        70            1\n",
       "...          ...       ...          ...\n",
       "7924  MH04KF8187      1050            1\n",
       "7939  MH04KF8187      1065            1\n",
       "7942  MH04KF8187      1068            1\n",
       "7948  MH04KF8187      1074            1\n",
       "7965  MH04KF8187      1091            1\n",
       "\n",
       "[593 rows x 3 columns]"
      ]
     },
     "execution_count": 141,
     "metadata": {},
     "output_type": "execute_result"
    }
   ],
   "source": [
    "abnormal = meta_vehicle_id.query('PseudoLabel==1')\n",
    "abnormal"
   ]
  },
  {
   "cell_type": "code",
   "execution_count": null,
   "metadata": {},
   "outputs": [
    {
     "name": "stdout",
     "output_type": "stream",
     "text": [
      "Vehicle : MH04KF8187, event : 1091\r"
     ]
    }
   ],
   "source": [
    "path_plot = Path(f'plot/pseudoLabel')\n",
    "if not path_plot.exists():\n",
    "    path_plot.mkdir(exist_ok=True, parents=True)\n",
    "\n",
    "temp = meta.reset_index()\n",
    "\n",
    "for tuple_ in abnormal.itertuples():\n",
    "    idx, v_model_, event_id_, _ =  tuple_\n",
    "    \n",
    "    dir_src = Path(f'plot/{v_model_}')\n",
    "    dir_dst = path_plot\n",
    "     \n",
    "    print(f'Vehicle : {v_model_}, event : {event_id_}', end='\\r') \n",
    "    file_ = f'{v_model_}_event{event_id_}'\n",
    "    profile_file_ = file_ + '.png'\n",
    "    map_file_ = file_ + '_map.png'\n",
    "    \n",
    "    src = dir_src/profile_file_ \n",
    "    src_map = dir_src/map_file_ \n",
    "    \n",
    "    dst = dir_dst/profile_file_ \n",
    "    dst_map = dir_dst/map_file_ \n",
    "\n",
    "    try:\n",
    "        if src.exists():\n",
    "            shutil.copyfile(src, dst)\n",
    "        if src_map.exists():\n",
    "            shutil.copyfile(src_map, dst_map)\n",
    "    except:\n",
    "        print(f'{src_map} not found')\n"
   ]
  },
  {
   "cell_type": "code",
   "execution_count": null,
   "metadata": {},
   "outputs": [],
   "source": []
  }
 ],
 "metadata": {
  "kernelspec": {
   "display_name": "Python 3 (ipykernel)",
   "language": "python",
   "name": "python3"
  },
  "language_info": {
   "codemirror_mode": {
    "name": "ipython",
    "version": 3
   },
   "file_extension": ".py",
   "mimetype": "text/x-python",
   "name": "python",
   "nbconvert_exporter": "python",
   "pygments_lexer": "ipython3",
   "version": "3.8.10"
  },
  "orig_nbformat": 4,
  "vscode": {
   "interpreter": {
    "hash": "916dbcbb3f70747c44a77c7bcd40155683ae19c65e1c03b4aa3499c5328201f1"
   }
  }
 },
 "nbformat": 4,
 "nbformat_minor": 2
}
