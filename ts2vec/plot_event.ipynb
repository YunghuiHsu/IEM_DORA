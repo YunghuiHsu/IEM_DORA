{
 "cells": [
  {
   "cell_type": "code",
   "execution_count": 1,
   "metadata": {},
   "outputs": [
    {
     "name": "stdout",
     "output_type": "stream",
     "text": [
      "1.19.2\n",
      "1.3.3\n",
      "Python 3.8.10\n"
     ]
    }
   ],
   "source": [
    "\n",
    "import io\n",
    "import os\n",
    "import time\n",
    "import datetime\n",
    "import json\n",
    "import shutil\n",
    "import numpy as np\n",
    "import pandas as pd\n",
    "# import folium # draw route on map\n",
    "from folium import plugins\n",
    "import datetime\n",
    "from datetime import timedelta\n",
    "from pathlib import Path\n",
    "from scipy.io import arff\n",
    "import folium  # draw route on map\n",
    "from folium import plugins\n",
    "from PIL import Image\n",
    "\n",
    "import matplotlib.pyplot as plt\n",
    "from mpl_toolkits.mplot3d import Axes3D\n",
    "import seaborn as sns\n",
    "# import plotly.express as px\n",
    "# import plotly.graph_objects as go\n",
    "%matplotlib inline\n",
    "\n",
    "print(np.__version__)\n",
    "print(pd.__version__)\n",
    "\n",
    "!python3 --version\n",
    "\n",
    "path_plot = Path('plot') "
   ]
  },
  {
   "attachments": {},
   "cell_type": "markdown",
   "metadata": {},
   "source": [
    "## Plot Event profile"
   ]
  },
  {
   "cell_type": "code",
   "execution_count": 2,
   "metadata": {},
   "outputs": [],
   "source": [
    "file = 'datasets/DORA/dora_meta.csv'\n",
    "meta = pd.read_csv(file , index_col=0)\n",
    "meta['timestamp_conv'] = meta['timestamp_conv'].astype('datetime64[s]')\n",
    "meta.drop(['timestamp', 'gsen_timeTick', 'gyro_timeTick'], axis=1, inplace=True)"
   ]
  },
  {
   "cell_type": "code",
   "execution_count": 3,
   "metadata": {},
   "outputs": [
    {
     "data": {
      "text/html": [
       "<div>\n",
       "<style scoped>\n",
       "    .dataframe tbody tr th:only-of-type {\n",
       "        vertical-align: middle;\n",
       "    }\n",
       "\n",
       "    .dataframe tbody tr th {\n",
       "        vertical-align: top;\n",
       "    }\n",
       "\n",
       "    .dataframe thead th {\n",
       "        text-align: right;\n",
       "    }\n",
       "</style>\n",
       "<table border=\"1\" class=\"dataframe\">\n",
       "  <thead>\n",
       "    <tr style=\"text-align: right;\">\n",
       "      <th></th>\n",
       "      <th>vehicle_id</th>\n",
       "      <th>event_id</th>\n",
       "    </tr>\n",
       "  </thead>\n",
       "  <tbody>\n",
       "    <tr>\n",
       "      <th>0</th>\n",
       "      <td>KA01AF2992</td>\n",
       "      <td>1</td>\n",
       "    </tr>\n",
       "    <tr>\n",
       "      <th>1</th>\n",
       "      <td>KA01AF2992</td>\n",
       "      <td>2</td>\n",
       "    </tr>\n",
       "    <tr>\n",
       "      <th>2</th>\n",
       "      <td>KA01AF2992</td>\n",
       "      <td>3</td>\n",
       "    </tr>\n",
       "    <tr>\n",
       "      <th>3</th>\n",
       "      <td>KA01AF2992</td>\n",
       "      <td>4</td>\n",
       "    </tr>\n",
       "    <tr>\n",
       "      <th>4</th>\n",
       "      <td>KA01AF2992</td>\n",
       "      <td>7</td>\n",
       "    </tr>\n",
       "    <tr>\n",
       "      <th>...</th>\n",
       "      <td>...</td>\n",
       "      <td>...</td>\n",
       "    </tr>\n",
       "    <tr>\n",
       "      <th>7967</th>\n",
       "      <td>MH04KF8187</td>\n",
       "      <td>1093</td>\n",
       "    </tr>\n",
       "    <tr>\n",
       "      <th>7968</th>\n",
       "      <td>MH04KF8187</td>\n",
       "      <td>1094</td>\n",
       "    </tr>\n",
       "    <tr>\n",
       "      <th>7969</th>\n",
       "      <td>MH04KF8187</td>\n",
       "      <td>1095</td>\n",
       "    </tr>\n",
       "    <tr>\n",
       "      <th>7970</th>\n",
       "      <td>MH04KF8187</td>\n",
       "      <td>1096</td>\n",
       "    </tr>\n",
       "    <tr>\n",
       "      <th>7971</th>\n",
       "      <td>MH04KF8187</td>\n",
       "      <td>1097</td>\n",
       "    </tr>\n",
       "  </tbody>\n",
       "</table>\n",
       "<p>7972 rows × 2 columns</p>\n",
       "</div>"
      ],
      "text/plain": [
       "      vehicle_id  event_id\n",
       "0     KA01AF2992         1\n",
       "1     KA01AF2992         2\n",
       "2     KA01AF2992         3\n",
       "3     KA01AF2992         4\n",
       "4     KA01AF2992         7\n",
       "...          ...       ...\n",
       "7967  MH04KF8187      1093\n",
       "7968  MH04KF8187      1094\n",
       "7969  MH04KF8187      1095\n",
       "7970  MH04KF8187      1096\n",
       "7971  MH04KF8187      1097\n",
       "\n",
       "[7972 rows x 2 columns]"
      ]
     },
     "execution_count": 3,
     "metadata": {},
     "output_type": "execute_result"
    }
   ],
   "source": [
    "meta_vehicle_id  = meta.groupby(['vehicle_id', 'event_id']).id.count().reset_index().drop(['id'], axis=1)\n",
    "meta_vehicle_id "
   ]
  },
  {
   "cell_type": "markdown",
   "metadata": {},
   "source": [
    "- def plot_event()"
   ]
  },
  {
   "cell_type": "code",
   "execution_count": 4,
   "metadata": {},
   "outputs": [],
   "source": [
    "\n",
    "items = ['speed', 'heading', 'gsen', 'gyro']\n",
    "figsize=(12, 5)\n",
    "\n",
    "def plot_event(df_, items=items, savepath_:str=None):\n",
    "    fig, axes = plt.subplots(len(items), 1, figsize=figsize, sharex=True)\n",
    "    fig.suptitle(f'{suptitle}')\n",
    "    \n",
    "    for ax, item in zip(axes, items):\n",
    "        df_.filter(regex=f'^{item}', axis=1).plot(ax=ax, grid=True)\n",
    "        \n",
    "    if savepath_:\n",
    "        fig.savefig(savepath_, bbox_inches='tight')     \n",
    "# plot_event()"
   ]
  },
  {
   "attachments": {},
   "cell_type": "markdown",
   "metadata": {},
   "source": [
    "- plot event profile  by vehicle model"
   ]
  },
  {
   "cell_type": "code",
   "execution_count": 6,
   "metadata": {},
   "outputs": [
    {
     "name": "stdout",
     "output_type": "stream",
     "text": [
      "[4981/7972](62.48%)| KA51AG8742, 1345\r"
     ]
    }
   ],
   "source": [
    "temp = meta.reset_index()\n",
    "\n",
    "for tuple_ in meta_vehicle_id.itertuples():\n",
    "\n",
    "    idx, v_model_, event_id_ =  tuple_\n",
    "    \n",
    "    path_plot = Path(f'plot/{v_model_}')\n",
    "    if not path_plot.exists():\n",
    "        path_plot.mkdir(exist_ok=True, parents=True)\n",
    "    \n",
    "    temp_ = temp.query('vehicle_id == @v_model_ and event_id == @event_id_').reset_index()\n",
    "    timestamp_ = temp.timestamp_conv.iloc[0] \n",
    "\n",
    "    file_ = f'{v_model_}_event{event_id_}'\n",
    "    suptitle  = file_ + f'\\n{timestamp_}' \n",
    "    savepath_ = path_plot/f'{file_}.png'\n",
    "    plot_event(temp_, savepath_=savepath_)\n",
    "    plt.close()\n",
    "\n",
    "    info = f'[{idx+1:4d}/{len(meta_vehicle_id)}]({100*idx/len(meta_vehicle_id):5.2f}%)'\n",
    "    info += f'| {v_model_}, {event_id_ }'\n",
    "    print(info, end='\\r')\n",
    "    if idx==1 :break\n"
   ]
  },
  {
   "cell_type": "markdown",
   "metadata": {},
   "source": [
    "- plot_map()"
   ]
  },
  {
   "cell_type": "code",
   "execution_count": 6,
   "metadata": {},
   "outputs": [],
   "source": [
    "def plot_map(temp_, savepath_=None): \n",
    " \n",
    "    m = folium.Map(location=temp_[['latitude', 'longitude']].iloc[0], zoom_start=18, control_scale=True)\n",
    "    folium.PolyLine(temp_[['latitude', 'longitude']], color='red', weight=5, opacity=0.7).add_to(m)\n",
    "    start_point = temp_[['latitude', 'longitude']].iloc[0].tolist()\n",
    "    end_point = temp_[['latitude', 'longitude']].iloc[-1].tolist()\n",
    "    folium.Marker(location=start_point,\n",
    "                    icon=plugins.BeautifyIcon(border_color='red',\n",
    "                                            text_color='black',\n",
    "                                            number=1,\n",
    "                                            inner_icon_style='plane')).add_to(m)\n",
    "    folium.Marker(location=end_point,\n",
    "                    icon=plugins.BeautifyIcon(border_color='yellow',\n",
    "                                            text_color='black',\n",
    "                                            number=2,\n",
    "                                            inner_icon_style='plane')).add_to(m)\n",
    "    mmap = m._to_png()\n",
    "    img = Image.open(io.BytesIO(mmap))\n",
    "    if savepath_:\n",
    "        img.save(savepath_)"
   ]
  },
  {
   "cell_type": "code",
   "execution_count": 10,
   "metadata": {},
   "outputs": [
    {
     "name": "stdout",
     "output_type": "stream",
     "text": [
      "[ 403/7972]( 5.04%)| KA01AF2992, 411\r"
     ]
    }
   ],
   "source": [
    "temp = meta.reset_index()\n",
    "\n",
    "for tuple_ in meta_vehicle_id.itertuples():\n",
    "\n",
    "    idx, v_model_, event_id_ =  tuple_\n",
    "    if v_model_ != 'KA01AF2992':\n",
    "        continue\n",
    "    \n",
    "    path_plot = Path(f'plot/{v_model_}')\n",
    "    if not path_plot.exists():\n",
    "        path_plot.mkdir(exist_ok=True, parents=True)\n",
    "    \n",
    "    temp_ = temp.query('vehicle_id == @v_model_ and event_id == @event_id_').reset_index()\n",
    "    timestamp_ = temp.timestamp_conv.iloc[0] \n",
    "\n",
    "    file_ = f'{v_model_}_event{event_id_}'\n",
    "    suptitle  = file_ + f'\\n{timestamp_}' \n",
    "    savepath_ = path_plot/f'{v_model_}_event{event_id_}_map.png'\n",
    "    plot_map(temp_,  savepath_=savepath_)\n",
    "    plt.close()\n",
    "\n",
    "    info = f'[{idx+1:4d}/{len(meta_vehicle_id)}]({100*idx/len(meta_vehicle_id):5.2f}%)'\n",
    "    info += f'| {v_model_}, {event_id_ }'\n",
    "    print(info, end='\\r')\n",
    "    # if idx==1 :break"
   ]
  },
  {
   "cell_type": "code",
   "execution_count": null,
   "metadata": {},
   "outputs": [],
   "source": []
  }
 ],
 "metadata": {
  "kernelspec": {
   "display_name": "Python 3",
   "language": "python",
   "name": "python3"
  },
  "language_info": {
   "codemirror_mode": {
    "name": "ipython",
    "version": 3
   },
   "file_extension": ".py",
   "mimetype": "text/x-python",
   "name": "python",
   "nbconvert_exporter": "python",
   "pygments_lexer": "ipython3",
   "version": "3.8.10 (default, Nov 14 2022, 12:59:47) \n[GCC 9.4.0]"
  },
  "orig_nbformat": 4,
  "vscode": {
   "interpreter": {
    "hash": "916dbcbb3f70747c44a77c7bcd40155683ae19c65e1c03b4aa3499c5328201f1"
   }
  }
 },
 "nbformat": 4,
 "nbformat_minor": 2
}
